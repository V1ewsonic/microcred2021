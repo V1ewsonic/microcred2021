{
  "cells": [
    {
      "cell_type": "markdown",
      "id": "d09deee4",
      "metadata": {
        "id": "d09deee4"
      },
      "source": [
        "### **DATA CLEANSING & Handling Missing Values**\n",
        "---\n",
        "\n",
        "Value yang hilang serta tidak lengkap dari dataframe akan membuat analisis atau model prediksi yang dibuat menjadi tidak akurat dan mengakibatkan keputusan salah yang diambil. Terdapat beberapa cara untuk mengatasi data yang hilang/tidak lengkap tersebut.\n",
        "\n",
        "Kali ini, kita akan menggunkan Dataset Iris yang kotor / terdapat nilai NaN dan outliers"
      ]
    },
    {
      "cell_type": "markdown",
      "id": "55b4dff0",
      "metadata": {
        "id": "55b4dff0"
      },
      "source": [
        "## Pada Tugas Mandiri Pertemuan 8 \n",
        "\n",
        "#### silakan Anda kerjakan Latihan 1 s/d 20. Output yang anda lihat merupakan panduan yang dapat Anda ikuti dalam penulisan code :)"
      ]
    },
    {
      "cell_type": "markdown",
      "id": "a2812628",
      "metadata": {
        "id": "a2812628"
      },
      "source": [
        "# Latihan (1)\n",
        "\n",
        "### Melakukan import library yang dibutuhkan"
      ]
    },
    {
      "cell_type": "code",
      "execution_count": 31,
      "id": "d95129c2",
      "metadata": {
        "id": "d95129c2"
      },
      "outputs": [],
      "source": [
        "# import library pandas\n",
        "import pandas as pd\n",
        "\n",
        "# import library numpy\n",
        "import numpy as np\n",
        "\n",
        "# import library matplotlib\n",
        "import matplotlib.pyplot as plt\n",
        "\n",
        "# import library seaborn\n",
        "import seaborn as sns\n",
        "\n",
        "# me non aktifkan peringatan pada python dengan import warning -> 'ignore'\n",
        "import warnings\n",
        "warnings.filterwarnings('ignore')"
      ]
    },
    {
      "cell_type": "markdown",
      "id": "0f98826c",
      "metadata": {
        "id": "0f98826c"
      },
      "source": [
        "### Load Dataset"
      ]
    },
    {
      "cell_type": "code",
      "execution_count": 32,
      "id": "9195b041",
      "metadata": {
        "colab": {
          "base_uri": "https://localhost:8080/",
          "height": 363
        },
        "id": "9195b041",
        "outputId": "c5419e81-fcb4-4c76-8c7f-57832ef3af12",
        "scrolled": false
      },
      "outputs": [
        {
          "data": {
            "text/html": [
              "<div>\n",
              "<style scoped>\n",
              "    .dataframe tbody tr th:only-of-type {\n",
              "        vertical-align: middle;\n",
              "    }\n",
              "\n",
              "    .dataframe tbody tr th {\n",
              "        vertical-align: top;\n",
              "    }\n",
              "\n",
              "    .dataframe thead th {\n",
              "        text-align: right;\n",
              "    }\n",
              "</style>\n",
              "<table border=\"1\" class=\"dataframe\">\n",
              "  <thead>\n",
              "    <tr style=\"text-align: right;\">\n",
              "      <th></th>\n",
              "      <th>SepalLengthCm</th>\n",
              "      <th>SepalWidthCm</th>\n",
              "      <th>PetalLengthCm</th>\n",
              "      <th>PetalWidthCm</th>\n",
              "      <th>Species</th>\n",
              "    </tr>\n",
              "  </thead>\n",
              "  <tbody>\n",
              "    <tr>\n",
              "      <th>0</th>\n",
              "      <td>NaN</td>\n",
              "      <td>3.5</td>\n",
              "      <td>1.4</td>\n",
              "      <td>0.2</td>\n",
              "      <td>Iris-setosa</td>\n",
              "    </tr>\n",
              "    <tr>\n",
              "      <th>1</th>\n",
              "      <td>4.9</td>\n",
              "      <td>2000.0</td>\n",
              "      <td>1.4</td>\n",
              "      <td>0.2</td>\n",
              "      <td>Iris-setosa</td>\n",
              "    </tr>\n",
              "    <tr>\n",
              "      <th>2</th>\n",
              "      <td>4.7</td>\n",
              "      <td>3.2</td>\n",
              "      <td>-1.3</td>\n",
              "      <td>0.2</td>\n",
              "      <td>Iris-setosa</td>\n",
              "    </tr>\n",
              "    <tr>\n",
              "      <th>3</th>\n",
              "      <td>4.6</td>\n",
              "      <td>3.1</td>\n",
              "      <td>1.5</td>\n",
              "      <td>0.2</td>\n",
              "      <td>Iris-setosa</td>\n",
              "    </tr>\n",
              "    <tr>\n",
              "      <th>4</th>\n",
              "      <td>5.0</td>\n",
              "      <td>3.6</td>\n",
              "      <td>1.4</td>\n",
              "      <td>0.2</td>\n",
              "      <td>Iris-setosa</td>\n",
              "    </tr>\n",
              "    <tr>\n",
              "      <th>5</th>\n",
              "      <td>5.4</td>\n",
              "      <td>3.9</td>\n",
              "      <td>1.7</td>\n",
              "      <td>0.4</td>\n",
              "      <td>Iris-setosa</td>\n",
              "    </tr>\n",
              "    <tr>\n",
              "      <th>6</th>\n",
              "      <td>NaN</td>\n",
              "      <td>3.4</td>\n",
              "      <td>1.4</td>\n",
              "      <td>0.3</td>\n",
              "      <td>Iris-setosa</td>\n",
              "    </tr>\n",
              "    <tr>\n",
              "      <th>7</th>\n",
              "      <td>5.0</td>\n",
              "      <td>3.4</td>\n",
              "      <td>-1.5</td>\n",
              "      <td>0.2</td>\n",
              "      <td>Iris-setosa</td>\n",
              "    </tr>\n",
              "    <tr>\n",
              "      <th>8</th>\n",
              "      <td>4.4</td>\n",
              "      <td>1500.0</td>\n",
              "      <td>1.4</td>\n",
              "      <td>0.2</td>\n",
              "      <td>Iris-setosa</td>\n",
              "    </tr>\n",
              "    <tr>\n",
              "      <th>9</th>\n",
              "      <td>4.9</td>\n",
              "      <td>3.1</td>\n",
              "      <td>1.5</td>\n",
              "      <td>0.1</td>\n",
              "      <td>Iris-setosa</td>\n",
              "    </tr>\n",
              "  </tbody>\n",
              "</table>\n",
              "</div>"
            ],
            "text/plain": [
              "   SepalLengthCm  SepalWidthCm  PetalLengthCm  PetalWidthCm      Species\n",
              "0            NaN           3.5            1.4           0.2  Iris-setosa\n",
              "1            4.9        2000.0            1.4           0.2  Iris-setosa\n",
              "2            4.7           3.2           -1.3           0.2  Iris-setosa\n",
              "3            4.6           3.1            1.5           0.2  Iris-setosa\n",
              "4            5.0           3.6            1.4           0.2  Iris-setosa\n",
              "5            5.4           3.9            1.7           0.4  Iris-setosa\n",
              "6            NaN           3.4            1.4           0.3  Iris-setosa\n",
              "7            5.0           3.4           -1.5           0.2  Iris-setosa\n",
              "8            4.4        1500.0            1.4           0.2  Iris-setosa\n",
              "9            4.9           3.1            1.5           0.1  Iris-setosa"
            ]
          },
          "execution_count": 32,
          "metadata": {},
          "output_type": "execute_result"
        }
      ],
      "source": [
        "#Panggil file (load file bernama Iris_unclean.csv) dan simpan dalam dataframe Lalu tampilkan 10 baris awal dataset dengan function head()\n",
        "df= pd.read_csv('Iris_unclean.csv')\n",
        "df.head(10)"
      ]
    },
    {
      "cell_type": "markdown",
      "id": "a51f360f",
      "metadata": {
        "id": "a51f360f"
      },
      "source": [
        "**Kegiatan yang akan kita lakukan:**\n",
        "\n",
        "\n",
        "* Melihat bentuk data (shape) dari data \n",
        "* Langkah selanjutnya, harus tahu kolom mana yang terdapat data hilang dan berapa banyak dengan cara:\n",
        "\n",
        "    1. menerapkan method .info() pada dataframe yang dapat diikuti dari kode berikut ini\n",
        "    2. mengetahui berapa banyak nilai hilang dari tiap kolom di dataset tersebut dengan menerapkan chaining method pada dataframe yaitu .isna().sum().\n",
        "    \n",
        "    \n",
        "* Cek data NaN, bila ada maka hapus/drop data NaN tsb\n",
        "* Cek outliers, bila ada maka hapus/drop outliers tsb"
      ]
    },
    {
      "cell_type": "markdown",
      "id": "19f83e26",
      "metadata": {
        "id": "19f83e26"
      },
      "source": [
        "# Latihan (2)\n",
        "\n",
        "### Review Dataset"
      ]
    },
    {
      "cell_type": "code",
      "execution_count": 33,
      "id": "b3dd816a",
      "metadata": {
        "colab": {
          "base_uri": "https://localhost:8080/"
        },
        "id": "b3dd816a",
        "outputId": "7e0e7ec6-e65c-4aba-db78-f4c5c44818f3"
      },
      "outputs": [
        {
          "data": {
            "text/plain": [
              "(150, 5)"
            ]
          },
          "execution_count": 33,
          "metadata": {},
          "output_type": "execute_result"
        }
      ],
      "source": [
        "# menghasilkan jumlah baris dan jumlah kolom (bentuk data) pada data df dengan fungsi .shape\n",
        "df.shape"
      ]
    },
    {
      "cell_type": "code",
      "execution_count": 34,
      "id": "92789f18",
      "metadata": {
        "colab": {
          "base_uri": "https://localhost:8080/",
          "height": 300
        },
        "id": "92789f18",
        "outputId": "c45489b8-bca1-4618-f0a0-db9067503ef5"
      },
      "outputs": [
        {
          "data": {
            "text/html": [
              "<div>\n",
              "<style scoped>\n",
              "    .dataframe tbody tr th:only-of-type {\n",
              "        vertical-align: middle;\n",
              "    }\n",
              "\n",
              "    .dataframe tbody tr th {\n",
              "        vertical-align: top;\n",
              "    }\n",
              "\n",
              "    .dataframe thead th {\n",
              "        text-align: right;\n",
              "    }\n",
              "</style>\n",
              "<table border=\"1\" class=\"dataframe\">\n",
              "  <thead>\n",
              "    <tr style=\"text-align: right;\">\n",
              "      <th></th>\n",
              "      <th>SepalLengthCm</th>\n",
              "      <th>SepalWidthCm</th>\n",
              "      <th>PetalLengthCm</th>\n",
              "      <th>PetalWidthCm</th>\n",
              "    </tr>\n",
              "  </thead>\n",
              "  <tbody>\n",
              "    <tr>\n",
              "      <th>count</th>\n",
              "      <td>148.000000</td>\n",
              "      <td>150.000000</td>\n",
              "      <td>150.000000</td>\n",
              "      <td>150.000000</td>\n",
              "    </tr>\n",
              "    <tr>\n",
              "      <th>mean</th>\n",
              "      <td>5.856757</td>\n",
              "      <td>26.348000</td>\n",
              "      <td>3.721333</td>\n",
              "      <td>1.198667</td>\n",
              "    </tr>\n",
              "    <tr>\n",
              "      <th>std</th>\n",
              "      <td>0.824964</td>\n",
              "      <td>203.117929</td>\n",
              "      <td>1.842364</td>\n",
              "      <td>0.763161</td>\n",
              "    </tr>\n",
              "    <tr>\n",
              "      <th>min</th>\n",
              "      <td>4.300000</td>\n",
              "      <td>2.000000</td>\n",
              "      <td>-1.500000</td>\n",
              "      <td>0.100000</td>\n",
              "    </tr>\n",
              "    <tr>\n",
              "      <th>25%</th>\n",
              "      <td>5.100000</td>\n",
              "      <td>2.800000</td>\n",
              "      <td>1.600000</td>\n",
              "      <td>0.300000</td>\n",
              "    </tr>\n",
              "    <tr>\n",
              "      <th>50%</th>\n",
              "      <td>5.800000</td>\n",
              "      <td>3.000000</td>\n",
              "      <td>4.350000</td>\n",
              "      <td>1.300000</td>\n",
              "    </tr>\n",
              "    <tr>\n",
              "      <th>75%</th>\n",
              "      <td>6.400000</td>\n",
              "      <td>3.375000</td>\n",
              "      <td>5.100000</td>\n",
              "      <td>1.800000</td>\n",
              "    </tr>\n",
              "    <tr>\n",
              "      <th>max</th>\n",
              "      <td>7.900000</td>\n",
              "      <td>2000.000000</td>\n",
              "      <td>6.900000</td>\n",
              "      <td>2.500000</td>\n",
              "    </tr>\n",
              "  </tbody>\n",
              "</table>\n",
              "</div>"
            ],
            "text/plain": [
              "       SepalLengthCm  SepalWidthCm  PetalLengthCm  PetalWidthCm\n",
              "count     148.000000    150.000000     150.000000    150.000000\n",
              "mean        5.856757     26.348000       3.721333      1.198667\n",
              "std         0.824964    203.117929       1.842364      0.763161\n",
              "min         4.300000      2.000000      -1.500000      0.100000\n",
              "25%         5.100000      2.800000       1.600000      0.300000\n",
              "50%         5.800000      3.000000       4.350000      1.300000\n",
              "75%         6.400000      3.375000       5.100000      1.800000\n",
              "max         7.900000   2000.000000       6.900000      2.500000"
            ]
          },
          "execution_count": 34,
          "metadata": {},
          "output_type": "execute_result"
        }
      ],
      "source": [
        "# fungsi describe() untuk mengetahui statistika data untuk data numeric seperti count, mean, standard deviation, maximum, mininum, dan quartile.\n",
        "df.describe()"
      ]
    },
    {
      "cell_type": "code",
      "execution_count": 35,
      "id": "36cf19e3",
      "metadata": {
        "colab": {
          "base_uri": "https://localhost:8080/"
        },
        "id": "36cf19e3",
        "outputId": "53aa8489-6d51-49bd-a32b-98d1f9e5ae95"
      },
      "outputs": [
        {
          "name": "stdout",
          "output_type": "stream",
          "text": [
            "<class 'pandas.core.frame.DataFrame'>\n",
            "RangeIndex: 150 entries, 0 to 149\n",
            "Data columns (total 5 columns):\n",
            " #   Column         Non-Null Count  Dtype  \n",
            "---  ------         --------------  -----  \n",
            " 0   SepalLengthCm  148 non-null    float64\n",
            " 1   SepalWidthCm   150 non-null    float64\n",
            " 2   PetalLengthCm  150 non-null    float64\n",
            " 3   PetalWidthCm   150 non-null    float64\n",
            " 4   Species        150 non-null    object \n",
            "dtypes: float64(4), object(1)\n",
            "memory usage: 6.0+ KB\n"
          ]
        }
      ],
      "source": [
        "# Informasi lebih detail mengenai struktur DataFrame dapat dilihat menggunakan fungsi info()\n",
        "df.info()"
      ]
    },
    {
      "cell_type": "code",
      "execution_count": 36,
      "id": "26c7b4f0",
      "metadata": {
        "colab": {
          "base_uri": "https://localhost:8080/"
        },
        "id": "26c7b4f0",
        "outputId": "69f3ba09-d0f3-4fb9-d976-6dfa8c9aaddc",
        "scrolled": true
      },
      "outputs": [
        {
          "data": {
            "text/plain": [
              "SepalLengthCm    2\n",
              "SepalWidthCm     0\n",
              "PetalLengthCm    0\n",
              "PetalWidthCm     0\n",
              "Species          0\n",
              "dtype: int64"
            ]
          },
          "execution_count": 36,
          "metadata": {},
          "output_type": "execute_result"
        }
      ],
      "source": [
        "#cek nilai yang hilang / missing values di dalam data\n",
        "df.isna().sum()"
      ]
    },
    {
      "cell_type": "markdown",
      "id": "635f825f",
      "metadata": {
        "id": "635f825f"
      },
      "source": [
        "Missing values adalah nilai yang tidak terdefinisi di dataset. Bentuknya beragam, bisa berupa blank cell, ataupun simbol-simbol tertentu seperti NaN (Not a Number), NA (Not Available), ?, -, dan sebagainya. Missing values dapat menjadi masalah dalam analisis data serta tentunya dapat mempengaruhi hasil modelling machine learning. Dari hasil diatas dataset tsb mengandung 2 data missing values pada kolom/field 'SepalLengthCm' dan beberapa outliers!"
      ]
    },
    {
      "cell_type": "markdown",
      "id": "db3ec0c1",
      "metadata": {
        "id": "db3ec0c1"
      },
      "source": [
        "\n",
        "\n",
        "### Periksa dan Cleansing setiap kolom pada data\n",
        "\n",
        "dalam kasus ini hint nya adalah: hanya kolom/field **'SepalLengthCm'**\t**'SepalWidthCm'**\t**'PetalLengthCm'** yang bermasalah dan kita hanya akan berfokus cleansing pada kolom/field tsb"
      ]
    },
    {
      "cell_type": "markdown",
      "id": "7b6dd71b",
      "metadata": {
        "id": "7b6dd71b"
      },
      "source": [
        "## <font color='red'>1. Kolom SepalLengthCm</font>"
      ]
    },
    {
      "cell_type": "markdown",
      "id": "3f8fea25",
      "metadata": {
        "id": "3f8fea25"
      },
      "source": [
        "# Latihan (3)\n",
        "\n",
        "periksa statistik data kolom SepalLengthCm"
      ]
    },
    {
      "cell_type": "code",
      "execution_count": 37,
      "id": "9e81ca84",
      "metadata": {
        "colab": {
          "base_uri": "https://localhost:8080/"
        },
        "id": "9e81ca84",
        "outputId": "77840f0d-5382-4d05-f146-699e0bc8f0b9"
      },
      "outputs": [
        {
          "data": {
            "text/plain": [
              "count    148.000000\n",
              "mean       5.856757\n",
              "std        0.824964\n",
              "min        4.300000\n",
              "25%        5.100000\n",
              "50%        5.800000\n",
              "75%        6.400000\n",
              "max        7.900000\n",
              "Name: SepalLengthCm, dtype: float64"
            ]
          },
          "execution_count": 37,
          "metadata": {},
          "output_type": "execute_result"
        }
      ],
      "source": [
        "df['SepalLengthCm'].describe()"
      ]
    },
    {
      "cell_type": "markdown",
      "id": "a8db96aa",
      "metadata": {
        "id": "a8db96aa"
      },
      "source": [
        "# Latihan (4)\n",
        "\n",
        "periksa jumlah nilai NaN pada kolom SepalLengthCm"
      ]
    },
    {
      "cell_type": "code",
      "execution_count": 38,
      "id": "b4ce2b23",
      "metadata": {
        "colab": {
          "base_uri": "https://localhost:8080/"
        },
        "id": "b4ce2b23",
        "outputId": "63e11117-2b37-46c7-9023-f0cf1925a19c"
      },
      "outputs": [
        {
          "name": "stdout",
          "output_type": "stream",
          "text": [
            "Nilai NaN pada kolom SepalLengthCm berjumlah : 2\n"
          ]
        }
      ],
      "source": [
        "print('Nilai NaN pada kolom SepalLengthCm berjumlah :', df['SepalLengthCm'].isna().sum())"
      ]
    },
    {
      "cell_type": "markdown",
      "id": "15af75b5",
      "metadata": {
        "id": "15af75b5"
      },
      "source": [
        "# Latihan (5)\n",
        "\n",
        "cetak index dari nilai NaN kolom SepalLengthCm dengan function np.where"
      ]
    },
    {
      "cell_type": "code",
      "execution_count": 39,
      "id": "062c7c48",
      "metadata": {
        "colab": {
          "base_uri": "https://localhost:8080/"
        },
        "id": "062c7c48",
        "outputId": "6a87cce3-6d98-4ae4-c171-5dcb08fb6efe"
      },
      "outputs": [
        {
          "data": {
            "text/plain": [
              "(array([0, 6]),)"
            ]
          },
          "execution_count": 39,
          "metadata": {},
          "output_type": "execute_result"
        }
      ],
      "source": [
        "index_nan = np.where(df['SepalLengthCm'].isna())\n",
        "index_nan"
      ]
    },
    {
      "cell_type": "markdown",
      "id": "5437252e",
      "metadata": {
        "id": "5437252e"
      },
      "source": [
        "# Latihan (6)\n",
        "\n",
        "1. Cetak ukuran/dimensi dari dataframe \n",
        "2. Drop baris jika ada satu saja data yang missing dan ukuran/dimensi dari dataframe setelah di drop"
      ]
    },
    {
      "cell_type": "code",
      "execution_count": 40,
      "id": "b7444156",
      "metadata": {
        "colab": {
          "base_uri": "https://localhost:8080/"
        },
        "id": "b7444156",
        "outputId": "1bab3d4b-de90-4c7b-ac68-56152a77fa98"
      },
      "outputs": [
        {
          "name": "stdout",
          "output_type": "stream",
          "text": [
            "Ukuran awal df: 150 baris, 5 kolom.\n",
            "Ukuran df setelah dibuang baris yang memiliki missing value: 148 baris, 5 kolom.\n"
          ]
        }
      ],
      "source": [
        "# Cetak ukuran awal dataframe\n",
        "print(\"Ukuran awal df: %d baris, %d kolom.\" % df.shape)\n",
        "\n",
        "# Drop baris jika ada satu saja data yang missing dengan function dropna() dan cetak ukurannya \n",
        "df = df.dropna(axis=0,how='any')\n",
        "print(\"Ukuran df setelah dibuang baris yang memiliki missing value: %d baris, %d kolom.\" % df.shape)"
      ]
    },
    {
      "cell_type": "markdown",
      "id": "364f86de",
      "metadata": {
        "id": "364f86de"
      },
      "source": [
        "##  <font color='red'>2. Kolom SepalWidthCm</font>"
      ]
    },
    {
      "cell_type": "markdown",
      "id": "ed3dc971",
      "metadata": {
        "id": "ed3dc971"
      },
      "source": [
        "# Latihan (7)\n",
        "\n",
        "periksa statistik data kolom SepalWidthCm"
      ]
    },
    {
      "cell_type": "code",
      "execution_count": 41,
      "id": "01a2b289",
      "metadata": {
        "colab": {
          "base_uri": "https://localhost:8080/"
        },
        "id": "01a2b289",
        "outputId": "efca1915-5c78-478e-ae67-c04ccef7d4b9"
      },
      "outputs": [
        {
          "data": {
            "text/plain": [
              "count     148.000000\n",
              "mean       26.657432\n",
              "std       204.477337\n",
              "min         2.000000\n",
              "25%         2.800000\n",
              "50%         3.000000\n",
              "75%         3.300000\n",
              "max      2000.000000\n",
              "Name: SepalWidthCm, dtype: float64"
            ]
          },
          "execution_count": 41,
          "metadata": {},
          "output_type": "execute_result"
        }
      ],
      "source": [
        "df['SepalWidthCm'].describe()"
      ]
    },
    {
      "cell_type": "markdown",
      "id": "81c5b01e",
      "metadata": {
        "id": "81c5b01e"
      },
      "source": [
        "Dari data diatas terlihat pada terdapat kejanggalan pada nilai max yaitu 2000cm, sedangkan Sepal Width/ lebar Kelopak bunga nampaknya tidak masuk akal bila berukuran hingga 2000cm. Sehingga dapat dipastikan ini merupakan outliers"
      ]
    },
    {
      "cell_type": "markdown",
      "id": "473cbd1d",
      "metadata": {
        "id": "473cbd1d"
      },
      "source": [
        "# Latihan (8)\n",
        "\n",
        "mendeteksi outlier dengan menggunakan boxplot pada kolom SepalWidthCm"
      ]
    },
    {
      "cell_type": "code",
      "execution_count": 42,
      "id": "20e2c606",
      "metadata": {
        "colab": {
          "base_uri": "https://localhost:8080/",
          "height": 334
        },
        "id": "20e2c606",
        "outputId": "4ddd8c9c-3f78-48b5-f61b-5a03a4056a3d"
      },
      "outputs": [
        {
          "data": {
            "image/png": "[encoded data removed]",
            "text/plain": [
              "<Figure size 720x360 with 1 Axes>"
            ]
          },
          "metadata": {
            "needs_background": "light"
          },
          "output_type": "display_data"
        }
      ],
      "source": [
        "plt.figure(figsize = (10, 5))\n",
        "sns.boxplot(df['SepalWidthCm'])\n",
        "plt.annotate('Outlier', (df['SepalWidthCm'].describe()['max'],0.1), xytext = (df['SepalWidthCm'].describe()['max'],0.3),\n",
        "             arrowprops = dict(facecolor = 'blue'), fontsize = 13 )\n",
        "IQR = df['SepalWidthCm'].describe()['75%'] - df['SepalWidthCm'].describe()['25%']"
      ]
    },
    {
      "cell_type": "markdown",
      "id": "092852e2",
      "metadata": {
        "id": "092852e2"
      },
      "source": [
        "# Latihan (9)\n",
        "\n",
        "membuat fungsi melihat data outlier dengan rumus IQR = Q3-Q1"
      ]
    },
    {
      "cell_type": "code",
      "execution_count": 43,
      "id": "c9a3246e",
      "metadata": {
        "id": "c9a3246e"
      },
      "outputs": [],
      "source": [
        "def detect_outliers(df, x):\n",
        "    Q1 = df[x].describe()['25%']\n",
        "    Q3 = df[x].describe()['75%']\n",
        "    IQR = Q3-Q1\n",
        "    return df[(df[x] < Q1-1.5*IQR) | (df[x] > Q3+1.5*IQR)]\n"
      ]
    },
    {
      "cell_type": "markdown",
      "id": "12970fa7",
      "metadata": {
        "id": "12970fa7"
      },
      "source": [
        "# Latihan (10)\n",
        "\n",
        "melihat data ouliers dari kolom SepalWidthCm menggunakan fungsi yang telah dibuat"
      ]
    },
    {
      "cell_type": "code",
      "execution_count": 44,
      "id": "478e2f16",
      "metadata": {
        "colab": {
          "base_uri": "https://localhost:8080/",
          "height": 238
        },
        "id": "478e2f16",
        "outputId": "f79b7e2e-3479-4f70-d8e0-f1751cf1f713"
      },
      "outputs": [
        {
          "data": {
            "text/html": [
              "<div>\n",
              "<style scoped>\n",
              "    .dataframe tbody tr th:only-of-type {\n",
              "        vertical-align: middle;\n",
              "    }\n",
              "\n",
              "    .dataframe tbody tr th {\n",
              "        vertical-align: top;\n",
              "    }\n",
              "\n",
              "    .dataframe thead th {\n",
              "        text-align: right;\n",
              "    }\n",
              "</style>\n",
              "<table border=\"1\" class=\"dataframe\">\n",
              "  <thead>\n",
              "    <tr style=\"text-align: right;\">\n",
              "      <th></th>\n",
              "      <th>SepalLengthCm</th>\n",
              "      <th>SepalWidthCm</th>\n",
              "      <th>PetalLengthCm</th>\n",
              "      <th>PetalWidthCm</th>\n",
              "      <th>Species</th>\n",
              "    </tr>\n",
              "  </thead>\n",
              "  <tbody>\n",
              "    <tr>\n",
              "      <th>1</th>\n",
              "      <td>4.9</td>\n",
              "      <td>2000.0</td>\n",
              "      <td>1.4</td>\n",
              "      <td>0.2</td>\n",
              "      <td>Iris-setosa</td>\n",
              "    </tr>\n",
              "    <tr>\n",
              "      <th>8</th>\n",
              "      <td>4.4</td>\n",
              "      <td>1500.0</td>\n",
              "      <td>1.4</td>\n",
              "      <td>0.2</td>\n",
              "      <td>Iris-setosa</td>\n",
              "    </tr>\n",
              "    <tr>\n",
              "      <th>15</th>\n",
              "      <td>5.7</td>\n",
              "      <td>4.4</td>\n",
              "      <td>1.5</td>\n",
              "      <td>0.4</td>\n",
              "      <td>Iris-setosa</td>\n",
              "    </tr>\n",
              "    <tr>\n",
              "      <th>32</th>\n",
              "      <td>5.2</td>\n",
              "      <td>4.1</td>\n",
              "      <td>1.5</td>\n",
              "      <td>0.1</td>\n",
              "      <td>Iris-setosa</td>\n",
              "    </tr>\n",
              "    <tr>\n",
              "      <th>33</th>\n",
              "      <td>5.5</td>\n",
              "      <td>4.2</td>\n",
              "      <td>1.4</td>\n",
              "      <td>0.2</td>\n",
              "      <td>Iris-setosa</td>\n",
              "    </tr>\n",
              "    <tr>\n",
              "      <th>60</th>\n",
              "      <td>5.0</td>\n",
              "      <td>2.0</td>\n",
              "      <td>3.5</td>\n",
              "      <td>1.0</td>\n",
              "      <td>Iris-versicolor</td>\n",
              "    </tr>\n",
              "  </tbody>\n",
              "</table>\n",
              "</div>"
            ],
            "text/plain": [
              "    SepalLengthCm  SepalWidthCm  PetalLengthCm  PetalWidthCm          Species\n",
              "1             4.9        2000.0            1.4           0.2      Iris-setosa\n",
              "8             4.4        1500.0            1.4           0.2      Iris-setosa\n",
              "15            5.7           4.4            1.5           0.4      Iris-setosa\n",
              "32            5.2           4.1            1.5           0.1      Iris-setosa\n",
              "33            5.5           4.2            1.4           0.2      Iris-setosa\n",
              "60            5.0           2.0            3.5           1.0  Iris-versicolor"
            ]
          },
          "execution_count": 44,
          "metadata": {},
          "output_type": "execute_result"
        }
      ],
      "source": [
        "detect_outliers(df,'SepalWidthCm')"
      ]
    },
    {
      "cell_type": "markdown",
      "id": "e60907d7",
      "metadata": {
        "id": "e60907d7"
      },
      "source": [
        "# Latihan (11)\n",
        "\n",
        "hapus data outlier dari kolom SepalWidthCm"
      ]
    },
    {
      "cell_type": "code",
      "execution_count": 45,
      "id": "0f8a53a2",
      "metadata": {
        "id": "0f8a53a2"
      },
      "outputs": [],
      "source": [
        "df = df.drop((df[df['SepalWidthCm']>4]).index, axis=0)"
      ]
    },
    {
      "cell_type": "code",
      "execution_count": 46,
      "id": "f178e6de",
      "metadata": {
        "id": "f178e6de"
      },
      "outputs": [],
      "source": [
        "df = df.drop((df[df['SepalWidthCm']<2.1]).index, axis=0)"
      ]
    },
    {
      "cell_type": "markdown",
      "id": "10647d55",
      "metadata": {
        "id": "10647d55"
      },
      "source": [
        "# Latihan (12)\n",
        "\n",
        "cek ulang outliers dengan fungsi yang telah dibuat"
      ]
    },
    {
      "cell_type": "code",
      "execution_count": 47,
      "id": "11c26293",
      "metadata": {
        "colab": {
          "base_uri": "https://localhost:8080/",
          "height": 49
        },
        "id": "11c26293",
        "outputId": "eb3fbe70-595f-4e54-cbf3-17711271d5c4"
      },
      "outputs": [
        {
          "data": {
            "text/html": [
              "<div>\n",
              "<style scoped>\n",
              "    .dataframe tbody tr th:only-of-type {\n",
              "        vertical-align: middle;\n",
              "    }\n",
              "\n",
              "    .dataframe tbody tr th {\n",
              "        vertical-align: top;\n",
              "    }\n",
              "\n",
              "    .dataframe thead th {\n",
              "        text-align: right;\n",
              "    }\n",
              "</style>\n",
              "<table border=\"1\" class=\"dataframe\">\n",
              "  <thead>\n",
              "    <tr style=\"text-align: right;\">\n",
              "      <th></th>\n",
              "      <th>SepalLengthCm</th>\n",
              "      <th>SepalWidthCm</th>\n",
              "      <th>PetalLengthCm</th>\n",
              "      <th>PetalWidthCm</th>\n",
              "      <th>Species</th>\n",
              "    </tr>\n",
              "  </thead>\n",
              "  <tbody>\n",
              "  </tbody>\n",
              "</table>\n",
              "</div>"
            ],
            "text/plain": [
              "Empty DataFrame\n",
              "Columns: [SepalLengthCm, SepalWidthCm, PetalLengthCm, PetalWidthCm, Species]\n",
              "Index: []"
            ]
          },
          "execution_count": 47,
          "metadata": {},
          "output_type": "execute_result"
        }
      ],
      "source": [
        "detect_outliers(df,'SepalWidthCm')"
      ]
    },
    {
      "cell_type": "markdown",
      "id": "c6034932",
      "metadata": {
        "id": "c6034932"
      },
      "source": [
        "# Latihan (13)\n",
        "\n",
        "cek ulang outliers dengan boxplot "
      ]
    },
    {
      "cell_type": "code",
      "execution_count": 48,
      "id": "dc2cc75d",
      "metadata": {
        "colab": {
          "base_uri": "https://localhost:8080/",
          "height": 296
        },
        "id": "dc2cc75d",
        "outputId": "de15c615-30cb-4b1a-ab68-4fb6649fdda1"
      },
      "outputs": [
        {
          "data": {
            "text/plain": [
              "<matplotlib.axes._subplots.AxesSubplot at 0x7f6ad6176d90>"
            ]
          },
          "execution_count": 48,
          "metadata": {},
          "output_type": "execute_result"
        },
        {
          "data": {
            "image/png": "[encoded data removed]",
            "text/plain": [
              "<Figure size 432x288 with 1 Axes>"
            ]
          },
          "metadata": {
            "needs_background": "light"
          },
          "output_type": "display_data"
        }
      ],
      "source": [
        "plt.plot(figsize = (10, 5))\n",
        "sns.boxplot(df['SepalWidthCm'])"
      ]
    },
    {
      "cell_type": "markdown",
      "id": "c1b848db",
      "metadata": {
        "id": "c1b848db"
      },
      "source": [
        "###  <font color='red'>3. Kolom PetalLengthCm</font>"
      ]
    },
    {
      "cell_type": "markdown",
      "id": "94c628fc",
      "metadata": {
        "id": "94c628fc"
      },
      "source": [
        "# Latihan (14)\n",
        "\n",
        "periksa statistik data kolom SepalLengthCm (???????)"
      ]
    },
    {
      "cell_type": "code",
      "execution_count": 49,
      "id": "144c83a7",
      "metadata": {
        "colab": {
          "base_uri": "https://localhost:8080/"
        },
        "id": "144c83a7",
        "outputId": "04c4349a-9da9-4c88-e83d-2d8e2def34fb"
      },
      "outputs": [
        {
          "data": {
            "text/plain": [
              "count    142.000000\n",
              "mean       3.835915\n",
              "std        1.819958\n",
              "min       -1.500000\n",
              "25%        1.600000\n",
              "50%        4.450000\n",
              "75%        5.100000\n",
              "max        6.900000\n",
              "Name: PetalLengthCm, dtype: float64"
            ]
          },
          "execution_count": 49,
          "metadata": {},
          "output_type": "execute_result"
        }
      ],
      "source": [
        "df['PetalLengthCm'].describe()"
      ]
    },
    {
      "cell_type": "markdown",
      "id": "e0d9c01e",
      "metadata": {
        "id": "e0d9c01e"
      },
      "source": [
        "Dari data diatas terlihat pada terdapat kejanggalan pada nilai min yaitu bernilai minus, sedangkan Petal Length/ panjang Kelopak bunga nampaknya tidak masuk akal bila berukuran minus. Sehingga dapat dipastikan ini merupakan outliers"
      ]
    },
    {
      "cell_type": "markdown",
      "id": "6c5bd1be",
      "metadata": {
        "id": "6c5bd1be"
      },
      "source": [
        "# Latihan (15)\n",
        "\n",
        "periksa data bernilai minus pada kolom PetalLengthCm"
      ]
    },
    {
      "cell_type": "code",
      "execution_count": 50,
      "id": "35ccbabe",
      "metadata": {
        "colab": {
          "base_uri": "https://localhost:8080/",
          "height": 112
        },
        "id": "35ccbabe",
        "outputId": "5ac31796-af53-4846-9b36-0b9bd39c2f50"
      },
      "outputs": [
        {
          "data": {
            "text/html": [
              "<div>\n",
              "<style scoped>\n",
              "    .dataframe tbody tr th:only-of-type {\n",
              "        vertical-align: middle;\n",
              "    }\n",
              "\n",
              "    .dataframe tbody tr th {\n",
              "        vertical-align: top;\n",
              "    }\n",
              "\n",
              "    .dataframe thead th {\n",
              "        text-align: right;\n",
              "    }\n",
              "</style>\n",
              "<table border=\"1\" class=\"dataframe\">\n",
              "  <thead>\n",
              "    <tr style=\"text-align: right;\">\n",
              "      <th></th>\n",
              "      <th>SepalLengthCm</th>\n",
              "      <th>SepalWidthCm</th>\n",
              "      <th>PetalLengthCm</th>\n",
              "      <th>PetalWidthCm</th>\n",
              "      <th>Species</th>\n",
              "    </tr>\n",
              "  </thead>\n",
              "  <tbody>\n",
              "    <tr>\n",
              "      <th>2</th>\n",
              "      <td>4.7</td>\n",
              "      <td>3.2</td>\n",
              "      <td>-1.3</td>\n",
              "      <td>0.2</td>\n",
              "      <td>Iris-setosa</td>\n",
              "    </tr>\n",
              "    <tr>\n",
              "      <th>7</th>\n",
              "      <td>5.0</td>\n",
              "      <td>3.4</td>\n",
              "      <td>-1.5</td>\n",
              "      <td>0.2</td>\n",
              "      <td>Iris-setosa</td>\n",
              "    </tr>\n",
              "  </tbody>\n",
              "</table>\n",
              "</div>"
            ],
            "text/plain": [
              "   SepalLengthCm  SepalWidthCm  PetalLengthCm  PetalWidthCm      Species\n",
              "2            4.7           3.2           -1.3           0.2  Iris-setosa\n",
              "7            5.0           3.4           -1.5           0.2  Iris-setosa"
            ]
          },
          "execution_count": 50,
          "metadata": {},
          "output_type": "execute_result"
        }
      ],
      "source": [
        "df[df['PetalLengthCm']<1]"
      ]
    },
    {
      "cell_type": "markdown",
      "id": "9683a57c",
      "metadata": {
        "id": "9683a57c"
      },
      "source": [
        "# Latihan (16)\n",
        "\n",
        "hapus data bernilai minus / outlier kolom PetalLengthCm"
      ]
    },
    {
      "cell_type": "code",
      "execution_count": 51,
      "id": "4018d17c",
      "metadata": {
        "id": "4018d17c"
      },
      "outputs": [],
      "source": [
        "df = df.drop((df[df['PetalLengthCm']<1]).index, axis=0)"
      ]
    },
    {
      "cell_type": "markdown",
      "id": "b446c0da",
      "metadata": {
        "id": "b446c0da"
      },
      "source": [
        "# Latihan (17)\n",
        "\n",
        "cek ulang outliers dengan fungsi yang telah dibuat"
      ]
    },
    {
      "cell_type": "code",
      "execution_count": 52,
      "id": "33417f1b",
      "metadata": {
        "colab": {
          "base_uri": "https://localhost:8080/",
          "height": 49
        },
        "id": "33417f1b",
        "outputId": "ad4bef1b-6c66-490c-8eb6-b2808a96bef0",
        "scrolled": true
      },
      "outputs": [
        {
          "data": {
            "text/html": [
              "<div>\n",
              "<style scoped>\n",
              "    .dataframe tbody tr th:only-of-type {\n",
              "        vertical-align: middle;\n",
              "    }\n",
              "\n",
              "    .dataframe tbody tr th {\n",
              "        vertical-align: top;\n",
              "    }\n",
              "\n",
              "    .dataframe thead th {\n",
              "        text-align: right;\n",
              "    }\n",
              "</style>\n",
              "<table border=\"1\" class=\"dataframe\">\n",
              "  <thead>\n",
              "    <tr style=\"text-align: right;\">\n",
              "      <th></th>\n",
              "      <th>SepalLengthCm</th>\n",
              "      <th>SepalWidthCm</th>\n",
              "      <th>PetalLengthCm</th>\n",
              "      <th>PetalWidthCm</th>\n",
              "      <th>Species</th>\n",
              "    </tr>\n",
              "  </thead>\n",
              "  <tbody>\n",
              "  </tbody>\n",
              "</table>\n",
              "</div>"
            ],
            "text/plain": [
              "Empty DataFrame\n",
              "Columns: [SepalLengthCm, SepalWidthCm, PetalLengthCm, PetalWidthCm, Species]\n",
              "Index: []"
            ]
          },
          "execution_count": 52,
          "metadata": {},
          "output_type": "execute_result"
        }
      ],
      "source": [
        "df[df['PetalLengthCm']<1]"
      ]
    },
    {
      "cell_type": "markdown",
      "id": "6505d2ce",
      "metadata": {
        "id": "6505d2ce"
      },
      "source": [
        "## CEK DATA SETELAH PROSES CLEANSING"
      ]
    },
    {
      "cell_type": "markdown",
      "id": "35fb612e",
      "metadata": {
        "id": "35fb612e"
      },
      "source": [
        "# Latihan (18)\n",
        "\n",
        "Melihat nomor index beserta tipe datanya dengan function info()"
      ]
    },
    {
      "cell_type": "code",
      "execution_count": 53,
      "id": "3edb6082",
      "metadata": {
        "colab": {
          "base_uri": "https://localhost:8080/"
        },
        "id": "3edb6082",
        "outputId": "a8a38807-e3e1-454b-989e-dda3755f0808"
      },
      "outputs": [
        {
          "name": "stdout",
          "output_type": "stream",
          "text": [
            "<class 'pandas.core.frame.DataFrame'>\n",
            "Int64Index: 140 entries, 3 to 149\n",
            "Data columns (total 5 columns):\n",
            " #   Column         Non-Null Count  Dtype  \n",
            "---  ------         --------------  -----  \n",
            " 0   SepalLengthCm  140 non-null    float64\n",
            " 1   SepalWidthCm   140 non-null    float64\n",
            " 2   PetalLengthCm  140 non-null    float64\n",
            " 3   PetalWidthCm   140 non-null    float64\n",
            " 4   Species        140 non-null    object \n",
            "dtypes: float64(4), object(1)\n",
            "memory usage: 6.6+ KB\n"
          ]
        }
      ],
      "source": [
        "df.info()"
      ]
    },
    {
      "cell_type": "markdown",
      "id": "b4c7d4f3",
      "metadata": {
        "id": "b4c7d4f3"
      },
      "source": [
        "# Latihan (19)\n",
        "\n",
        "cek ulang nilai yang hilang / missing values di dalam data setelah proses cleansing"
      ]
    },
    {
      "cell_type": "code",
      "execution_count": 54,
      "id": "4b83813b",
      "metadata": {
        "colab": {
          "base_uri": "https://localhost:8080/"
        },
        "id": "4b83813b",
        "outputId": "d2cfd69d-f18c-45c9-8ede-118062ff4ac2"
      },
      "outputs": [
        {
          "data": {
            "text/plain": [
              "SepalLengthCm    0\n",
              "SepalWidthCm     0\n",
              "PetalLengthCm    0\n",
              "PetalWidthCm     0\n",
              "Species          0\n",
              "dtype: int64"
            ]
          },
          "execution_count": 54,
          "metadata": {},
          "output_type": "execute_result"
        }
      ],
      "source": [
        "df.isna().sum()"
      ]
    },
    {
      "cell_type": "markdown",
      "id": "56c854c3",
      "metadata": {
        "id": "56c854c3"
      },
      "source": [
        "# Latihan (20)\n",
        "\n",
        "Tampilkan 10 baris dataframe setelah proses cleansing"
      ]
    },
    {
      "cell_type": "code",
      "execution_count": 55,
      "id": "6d6adea7",
      "metadata": {
        "colab": {
          "base_uri": "https://localhost:8080/",
          "height": 363
        },
        "id": "6d6adea7",
        "outputId": "03ea7c72-6f93-4977-8da2-eb3b7ff2b243"
      },
      "outputs": [
        {
          "data": {
            "text/html": [
              "<div>\n",
              "<style scoped>\n",
              "    .dataframe tbody tr th:only-of-type {\n",
              "        vertical-align: middle;\n",
              "    }\n",
              "\n",
              "    .dataframe tbody tr th {\n",
              "        vertical-align: top;\n",
              "    }\n",
              "\n",
              "    .dataframe thead th {\n",
              "        text-align: right;\n",
              "    }\n",
              "</style>\n",
              "<table border=\"1\" class=\"dataframe\">\n",
              "  <thead>\n",
              "    <tr style=\"text-align: right;\">\n",
              "      <th></th>\n",
              "      <th>SepalLengthCm</th>\n",
              "      <th>SepalWidthCm</th>\n",
              "      <th>PetalLengthCm</th>\n",
              "      <th>PetalWidthCm</th>\n",
              "      <th>Species</th>\n",
              "    </tr>\n",
              "  </thead>\n",
              "  <tbody>\n",
              "    <tr>\n",
              "      <th>3</th>\n",
              "      <td>4.6</td>\n",
              "      <td>3.1</td>\n",
              "      <td>1.5</td>\n",
              "      <td>0.2</td>\n",
              "      <td>Iris-setosa</td>\n",
              "    </tr>\n",
              "    <tr>\n",
              "      <th>4</th>\n",
              "      <td>5.0</td>\n",
              "      <td>3.6</td>\n",
              "      <td>1.4</td>\n",
              "      <td>0.2</td>\n",
              "      <td>Iris-setosa</td>\n",
              "    </tr>\n",
              "    <tr>\n",
              "      <th>5</th>\n",
              "      <td>5.4</td>\n",
              "      <td>3.9</td>\n",
              "      <td>1.7</td>\n",
              "      <td>0.4</td>\n",
              "      <td>Iris-setosa</td>\n",
              "    </tr>\n",
              "    <tr>\n",
              "      <th>9</th>\n",
              "      <td>4.9</td>\n",
              "      <td>3.1</td>\n",
              "      <td>1.5</td>\n",
              "      <td>0.1</td>\n",
              "      <td>Iris-setosa</td>\n",
              "    </tr>\n",
              "    <tr>\n",
              "      <th>10</th>\n",
              "      <td>5.4</td>\n",
              "      <td>3.7</td>\n",
              "      <td>1.5</td>\n",
              "      <td>0.2</td>\n",
              "      <td>Iris-setosa</td>\n",
              "    </tr>\n",
              "    <tr>\n",
              "      <th>11</th>\n",
              "      <td>4.8</td>\n",
              "      <td>3.4</td>\n",
              "      <td>1.6</td>\n",
              "      <td>0.2</td>\n",
              "      <td>Iris-setosa</td>\n",
              "    </tr>\n",
              "    <tr>\n",
              "      <th>12</th>\n",
              "      <td>4.8</td>\n",
              "      <td>3.0</td>\n",
              "      <td>1.4</td>\n",
              "      <td>0.1</td>\n",
              "      <td>Iris-setosa</td>\n",
              "    </tr>\n",
              "    <tr>\n",
              "      <th>13</th>\n",
              "      <td>4.3</td>\n",
              "      <td>3.0</td>\n",
              "      <td>1.1</td>\n",
              "      <td>0.1</td>\n",
              "      <td>Iris-setosa</td>\n",
              "    </tr>\n",
              "    <tr>\n",
              "      <th>14</th>\n",
              "      <td>5.8</td>\n",
              "      <td>4.0</td>\n",
              "      <td>1.2</td>\n",
              "      <td>0.2</td>\n",
              "      <td>Iris-setosa</td>\n",
              "    </tr>\n",
              "    <tr>\n",
              "      <th>16</th>\n",
              "      <td>5.4</td>\n",
              "      <td>3.9</td>\n",
              "      <td>1.3</td>\n",
              "      <td>0.4</td>\n",
              "      <td>Iris-setosa</td>\n",
              "    </tr>\n",
              "  </tbody>\n",
              "</table>\n",
              "</div>"
            ],
            "text/plain": [
              "    SepalLengthCm  SepalWidthCm  PetalLengthCm  PetalWidthCm      Species\n",
              "3             4.6           3.1            1.5           0.2  Iris-setosa\n",
              "4             5.0           3.6            1.4           0.2  Iris-setosa\n",
              "5             5.4           3.9            1.7           0.4  Iris-setosa\n",
              "9             4.9           3.1            1.5           0.1  Iris-setosa\n",
              "10            5.4           3.7            1.5           0.2  Iris-setosa\n",
              "11            4.8           3.4            1.6           0.2  Iris-setosa\n",
              "12            4.8           3.0            1.4           0.1  Iris-setosa\n",
              "13            4.3           3.0            1.1           0.1  Iris-setosa\n",
              "14            5.8           4.0            1.2           0.2  Iris-setosa\n",
              "16            5.4           3.9            1.3           0.4  Iris-setosa"
            ]
          },
          "execution_count": 55,
          "metadata": {},
          "output_type": "execute_result"
        }
      ],
      "source": [
        "df.head(10)"
      ]
    },
    {
      "cell_type": "markdown",
      "id": "fe0ba5de",
      "metadata": {
        "id": "fe0ba5de"
      },
      "source": [
        "### DATA SUDAH SIAP UNTUK KETAHAP SELANJUTNYA YAITU MODELLING :)"
      ]
    }
  ],
  "metadata": {
    "colab": {
      "collapsed_sections": [
        "db3ec0c1",
        "c1b848db",
        "fe0ba5de"
      ],
      "name": "Tugas Mandiri Pertemuan 8_Fanka Arie Reza_Universitas Gunadarma",
      "provenance": []
    },
    "kernelspec": {
      "display_name": "Python 3",
      "language": "python",
      "name": "python3"
    },
    "language_info": {
      "codemirror_mode": {
        "name": "ipython",
        "version": 3
      },
      "file_extension": ".py",
      "mimetype": "text/x-python",
      "name": "python",
      "nbconvert_exporter": "python",
      "pygments_lexer": "ipython3",
      "version": "3.8.8"
    }
  },
  "nbformat": 4,
  "nbformat_minor": 5
}
